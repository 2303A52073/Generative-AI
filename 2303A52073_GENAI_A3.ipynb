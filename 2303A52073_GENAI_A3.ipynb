{
  "nbformat": 4,
  "nbformat_minor": 0,
  "metadata": {
    "colab": {
      "provenance": []
    },
    "kernelspec": {
      "name": "python3",
      "display_name": "Python 3"
    },
    "language_info": {
      "name": "python"
    }
  },
  "cells": [
    {
      "cell_type": "code",
      "source": [
        "\n",
        "\n",
        "def sigmoid(x):\n",
        "  return 1 / (1 + (2.71828 ** -x))\n",
        "\n",
        "def sigmoid_derivative(x):\n",
        "  s = sigmoid(x)\n",
        "  return s * (1 - s)\n",
        "\n",
        "learning_rate = 0.1\n",
        "iterations = 10\n",
        "x = 0\n",
        "\n",
        "\n",
        "for _ in range(iterations):\n",
        "  gradient = -sigmoid_derivative(x)\n",
        "  x = x - learning_rate * gradient\n",
        "  print(f\"Iteration {_ + 1}: x = {x:.4f}, z(x) = {sigmoid(x):.4f}\")\n",
        "\n",
        "print(f\"Minimum value of z(x) is approximately {sigmoid(x):.4f} at x = {x:.4f}\")"
      ],
      "metadata": {
        "colab": {
          "base_uri": "https://localhost:8080/"
        },
        "id": "0v3xp-27UYph",
        "outputId": "f92055aa-3315-468c-e78b-01ec27433dd5"
      },
      "execution_count": 6,
      "outputs": [
        {
          "output_type": "stream",
          "name": "stdout",
          "text": [
            "Iteration 1: x = 0.0250, z(x) = 0.5062\n",
            "Iteration 2: x = 0.0500, z(x) = 0.5125\n",
            "Iteration 3: x = 0.0750, z(x) = 0.5187\n",
            "Iteration 4: x = 0.0999, z(x) = 0.5250\n",
            "Iteration 5: x = 0.1249, z(x) = 0.5312\n",
            "Iteration 6: x = 0.1498, z(x) = 0.5374\n",
            "Iteration 7: x = 0.1746, z(x) = 0.5436\n",
            "Iteration 8: x = 0.1995, z(x) = 0.5497\n",
            "Iteration 9: x = 0.2242, z(x) = 0.5558\n",
            "Iteration 10: x = 0.2489, z(x) = 0.5619\n",
            "Minimum value of z(x) is approximately 0.5619 at x = 0.2489\n"
          ]
        }
      ]
    },
    {
      "cell_type": "code",
      "source": [
        "def f(x, y):\n",
        "  return 3 * (x**2) + 5 * (2.71828**-y) + 10\n",
        "\n",
        "learning_rate = 0.1\n",
        "iterations = 10\n",
        "x = 0\n",
        "y = 0\n",
        "\n",
        "for _ in range(iterations):\n",
        "  df_dx = 6 * x\n",
        "  df_dy = -5 * (2.71828**-y)\n",
        "\n",
        "  x = x - learning_rate * df_dx\n",
        "  y = y - learning_rate * df_dy\n",
        "  print(f\"Iteration {_ + 1}: x = {x:.4f}, y = {y:.4f}, f(x,y) = {f(x,y):.4f}\")\n",
        "\n",
        "print(f\"Minimum value of f(x,y) is approximately {f(x,y):.4f} at x = {x:.4f}, y = {y:.4f}\")"
      ],
      "metadata": {
        "colab": {
          "base_uri": "https://localhost:8080/"
        },
        "id": "DGh4tuPMUlzK",
        "outputId": "530db73d-f87c-4320-d07b-360d1f53cb03"
      },
      "execution_count": 7,
      "outputs": [
        {
          "output_type": "stream",
          "name": "stdout",
          "text": [
            "Iteration 1: x = 0.0000, y = 0.5000, f(x,y) = 13.0327\n",
            "Iteration 2: x = 0.0000, y = 0.8033, f(x,y) = 12.2393\n",
            "Iteration 3: x = 0.0000, y = 1.0272, f(x,y) = 11.7900\n",
            "Iteration 4: x = 0.0000, y = 1.2062, f(x,y) = 11.4967\n",
            "Iteration 5: x = 0.0000, y = 1.3559, f(x,y) = 11.2886\n",
            "Iteration 6: x = 0.0000, y = 1.4847, f(x,y) = 11.1328\n",
            "Iteration 7: x = 0.0000, y = 1.5980, f(x,y) = 11.0115\n",
            "Iteration 8: x = 0.0000, y = 1.6992, f(x,y) = 10.9142\n",
            "Iteration 9: x = 0.0000, y = 1.7906, f(x,y) = 10.8343\n",
            "Iteration 10: x = 0.0000, y = 1.8740, f(x,y) = 10.7675\n",
            "Minimum value of f(x,y) is approximately 10.7675 at x = 0.0000, y = 1.8740\n"
          ]
        }
      ]
    },
    {
      "cell_type": "code",
      "source": [
        "def sigmoid(x):\n",
        "  return 1 / (1 + (2.71828 ** -x))\n",
        "\n",
        "def sigmoid_derivative(x):\n",
        "  s = sigmoid(x)\n",
        "  return s * (1 - s)\n",
        "\n",
        "learning_rate = 0.1\n",
        "iterations = 10\n",
        "x = 0\n",
        "\n",
        "\n",
        "for _ in range(iterations):\n",
        "  gradient = -sigmoid_derivative(x)\n",
        "\n",
        "  x = x - learning_rate * gradient\n",
        "  print(f\"Iteration {_ + 1}: x = {x:.4f}, z(x) = {sigmoid(x):.4f}\")\n",
        "\n",
        "print(f\"Minimum value of z(x) is approximately {sigmoid(x):.4f} at x = {x:.4f}\")"
      ],
      "metadata": {
        "colab": {
          "base_uri": "https://localhost:8080/"
        },
        "id": "GftIF__CT1ML",
        "outputId": "dead8fb0-a3ea-4406-97c5-33c48b1cc120"
      },
      "execution_count": 8,
      "outputs": [
        {
          "output_type": "stream",
          "name": "stdout",
          "text": [
            "Iteration 1: x = 0.0250, z(x) = 0.5062\n",
            "Iteration 2: x = 0.0500, z(x) = 0.5125\n",
            "Iteration 3: x = 0.0750, z(x) = 0.5187\n",
            "Iteration 4: x = 0.0999, z(x) = 0.5250\n",
            "Iteration 5: x = 0.1249, z(x) = 0.5312\n",
            "Iteration 6: x = 0.1498, z(x) = 0.5374\n",
            "Iteration 7: x = 0.1746, z(x) = 0.5436\n",
            "Iteration 8: x = 0.1995, z(x) = 0.5497\n",
            "Iteration 9: x = 0.2242, z(x) = 0.5558\n",
            "Iteration 10: x = 0.2489, z(x) = 0.5619\n",
            "Minimum value of z(x) is approximately 0.5619 at x = 0.2489\n"
          ]
        }
      ]
    },
    {
      "cell_type": "code",
      "source": [
        "\n",
        "def f(M, C):\n",
        "  return M * 2 + C\n",
        "expected_outputs = [10, 20, 30, 40, 50, 60, 70, 80, 90, 100]\n",
        "inputs = [1,2,3,4,5,6,7,8,9,10]\n",
        "\n",
        "\n",
        "M = 0\n",
        "C = 0\n",
        "\n",
        "\n",
        "learning_rate = 0.01\n",
        "\n",
        "\n",
        "iterations = 10\n",
        "\n",
        "\n",
        "for _ in range(iterations):\n",
        "\n",
        "    dSE_dM_sum = 0\n",
        "    dSE_dC_sum = 0\n",
        "    for i in range(len(inputs)):\n",
        "        predicted_output = f(M, C)\n",
        "        error = expected_outputs[i] - predicted_output\n",
        "\n",
        "        dSE_dM = -2 * error * inputs[i]\n",
        "        dSE_dC = -2 * error\n",
        "\n",
        "        dSE_dM_sum += dSE_dM\n",
        "        dSE_dC_sum += dSE_dC\n",
        "\n",
        "    dSE_dM_avg = dSE_dM_sum / len(inputs)\n",
        "    dSE_dC_avg = dSE_dC_sum / len(inputs)\n",
        "\n",
        "\n",
        "    M = M - learning_rate * dSE_dM_avg\n",
        "    C = C - learning_rate * dSE_dC_avg\n",
        "\n",
        "    total_square_error = 0\n",
        "    for i in range(len(inputs)):\n",
        "      total_square_error += (expected_outputs[i] - f(M,C))**2\n",
        "\n",
        "    print(f\"Iteration {_ + 1}: M = {M:.4f}, C = {C:.4f}, Square Error = {total_square_error:.4f}\")\n",
        "\n",
        "\n",
        "print(f\"Optimal M: {M:.4f}, Optimal C: {C:.4f}\")"
      ],
      "metadata": {
        "colab": {
          "base_uri": "https://localhost:8080/"
        },
        "id": "Wlr2vMXfT_MV",
        "outputId": "7e12b159-e12a-4e58-c0e1-d8967ca58998"
      },
      "execution_count": 9,
      "outputs": [
        {
          "output_type": "stream",
          "name": "stdout",
          "text": [
            "Iteration 1: M = 7.7000, C = 1.1000, Square Error = 23072.5000\n",
            "Iteration 2: M = 13.5850, C = 1.8700, Square Error = 14989.2160\n",
            "Iteration 3: M = 18.0906, C = 2.3892, Square Error = 10949.3176\n",
            "Iteration 4: M = 21.5479, C = 2.7178, Square Error = 9093.9171\n",
            "Iteration 5: M = 24.2084, C = 2.9015, Square Error = 8385.5519\n",
            "Iteration 6: M = 26.2634, C = 2.9752, Square Error = 8252.5188\n",
            "Iteration 7: M = 27.8582, C = 2.9651, Square Error = 8385.5292\n",
            "Iteration 8: M = 29.1032, C = 2.8915, Square Error = 8621.8421\n",
            "Iteration 9: M = 30.0824, C = 2.7695, Square Error = 8879.5460\n",
            "Iteration 10: M = 30.8596, C = 2.6108, Square Error = 9120.5149\n",
            "Optimal M: 30.8596, Optimal C: 2.6108\n"
          ]
        }
      ]
    }
  ]
}